{
 "cells": [
  {
   "cell_type": "markdown",
   "metadata": {},
   "source": [
    "<font size='5' face='Courier New'><h1 align=\"center\"><i>The Primal & Dual Linear Programming Problems: Canonical Form</i></h1></font> "
   ]
  },
  {
   "cell_type": "markdown",
   "metadata": {},
   "source": [
    "<font face='Times New Roman' size='6'><h3 align=\"center\"><u>*James&nbsp;D.&nbsp;Gaboardi*</u></h3></font>\n",
    "\n",
    "------\n",
    "<font face='Times New Roman' size='5'><h3 align=\"center\">*Florida State University* &nbsp;&nbsp;&nbsp;&nbsp;|&nbsp;&nbsp;&nbsp;&nbsp; *Department of Geography*</h3></font>\n",
    "\n",
    "------"
   ]
  },
  {
   "cell_type": "markdown",
   "metadata": {},
   "source": [
    "------\n",
    "\n",
    "<p><font size='4' face='Times New Roman'>Adapted from:</font></p>\n",
    "<p><font size='4' face='Times New Roman'><b>Daskin, M. S.</b> 1995. <i>Network and Discrete Location: Models, Algorithms, and Applications</i>. Hoboken, NJ, USA: John Wiley & Sons, Inc.</font></p>\n",
    "\n",
    "-----------"
   ]
  },
  {
   "cell_type": "markdown",
   "metadata": {},
   "source": [
    "<font size='7' face='Times New Roman'><b>0. <u>Imports and Data Creation</u></b></font>"
   ]
  },
  {
   "cell_type": "code",
   "execution_count": 2,
   "metadata": {
    "collapsed": false
   },
   "outputs": [],
   "source": [
    "# Imports\n",
    "import numpy as np\n",
    "import gurobipy as gbp\n",
    "import datetime as dt\n",
    "\n",
    "#  Constants\n",
    "Aij = np.random.randint(5, 50, 25)\n",
    "Aij = Aij.reshape(5,5)\n",
    "AijSum = np.sum(Aij)\n",
    "Cj = np.random.randint(10, 20, 5)\n",
    "CjSum = np.sum(Cj)\n",
    "Bi = np.random.randint(10, 20, 5)\n",
    "BiSum = np.sum(Bi)\n",
    "\n",
    "# Matrix Shape\n",
    "rows = range(len(Aij))\n",
    "cols = range(len(Aij[0]))\n"
   ]
  },
  {
   "cell_type": "markdown",
   "metadata": {},
   "source": [
    "<font size='7' face='Times New Roman'><b>1. <u>Primal</u></b></font>"
   ]
  },
  {
   "cell_type": "code",
   "execution_count": 3,
   "metadata": {
    "collapsed": false
   },
   "outputs": [
    {
     "name": "stdout",
     "output_type": "stream",
     "text": [
      "Changed value of parameter MIPFocus to 2\n",
      "   Prev: 0   Min: 0   Max: 3   Default: 0\n",
      "Optimize a model with 5 rows, 5 columns and 25 nonzeros\n",
      "Coefficient statistics:\n",
      "  Matrix range    [5e+00, 5e+01]\n",
      "  Objective range [1e+01, 2e+01]\n",
      "  Bounds range    [0e+00, 0e+00]\n",
      "  RHS range       [2e+01, 2e+01]\n",
      "Presolve time: 0.00s\n",
      "Presolved: 5 rows, 5 columns, 25 nonzeros\n",
      "\n",
      "Iteration    Objective       Primal Inf.    Dual Inf.      Time\n",
      "       0    0.0000000e+00   1.421875e+00   0.000000e+00      0s\n",
      "       2    8.6978673e+00   0.000000e+00   0.000000e+00      0s\n",
      "\n",
      "Solved in 2 iterations and 0.01 seconds\n",
      "Optimal objective  8.697867299e+00\n",
      "\n",
      "*************************************************************************\n",
      "    |   Decision Variables\n",
      "    |   y1 = 0.0\n",
      "    |   y2 = 0.387440758294\n",
      "    |   y3 = 0.244075829384\n",
      "    |   y4 = 0.0\n",
      "    |   y5 = 0.0\n",
      "*************************************************************************\n",
      "    |   Objective Value ------------------  8.69786729858\n",
      "    |   Aij Sum --------------------------  646\n",
      "    |   Cj Sum ---------------------------  68\n",
      "    |   Bi Sum ---------------------------  91\n",
      "    |   Matrix Dimensions ----------------  (5, 5)\n",
      "    |   Date/Time ------------------------  2015-08-20 15:57:33.917082\n",
      "*************************************************************************\n",
      "-- Gurobi Canonical Primal Linear Programming Problem --\n",
      "\n",
      "James Gaboardi, 2015\n"
     ]
    }
   ],
   "source": [
    "# Instantiate Model\n",
    "mPrimal_Canonical_GUROBI = gbp.Model(' -- Canonical Primal Linear Programming Problem -- ')\n",
    "\n",
    "# Set Focus to Optimality\n",
    "gbp.setParam('MIPFocus', 2)\n",
    "\n",
    "# Decision Variables\n",
    "desc_var = []\n",
    "for dest in cols:\n",
    "    desc_var.append([])\n",
    "    desc_var[dest].append(mPrimal_Canonical_GUROBI.addVar(vtype=gbp.GRB.CONTINUOUS, \n",
    "                                    name='y'+str(dest+1)))\n",
    "# Update Model\n",
    "mPrimal_Canonical_GUROBI.update()\n",
    "\n",
    "#Objective Function\n",
    "mPrimal_Canonical_GUROBI.setObjective(gbp.quicksum(Cj[dest]*desc_var[dest][0] \n",
    "                        for dest in cols), \n",
    "                        gbp.GRB.MINIMIZE)\n",
    "# Constraints\n",
    "for orig in rows:\n",
    "    mPrimal_Canonical_GUROBI.addConstr(gbp.quicksum(Aij[orig][dest]*desc_var[dest][0] \n",
    "                        for dest in cols) - Bi[orig] >= 0)\n",
    "# Optimize\n",
    "mPrimal_Canonical_GUROBI.optimize()\n",
    "# Write LP file\n",
    "mPrimal_Canonical_GUROBI.write('LP.lp')\n",
    "print '\\n*************************************************************************'\n",
    "print '    |   Decision Variables'\n",
    "for v in mPrimal_Canonical_GUROBI.getVars():\n",
    "    print '    |  ', v.VarName, '=', v.x\n",
    "print '*************************************************************************'\n",
    "val = mPrimal_Canonical_GUROBI.objVal\n",
    "print '    |   Objective Value ------------------ ', val\n",
    "print '    |   Aij Sum -------------------------- ', AijSum\n",
    "print '    |   Cj Sum --------------------------- ', CjSum\n",
    "print '    |   Bi Sum --------------------------- ', BiSum\n",
    "print '    |   Matrix Dimensions ---------------- ', Aij.shape\n",
    "print '    |   Date/Time ------------------------ ', dt.datetime.now()\n",
    "print '*************************************************************************'\n",
    "print '-- Gurobi Canonical Primal Linear Programming Problem --'\n",
    "print '\\nJames Gaboardi, 2015'"
   ]
  },
  {
   "cell_type": "markdown",
   "metadata": {},
   "source": [
    "<font size='7' face='Times New Roman'><b>2. <u>Dual</u></b></font>"
   ]
  },
  {
   "cell_type": "code",
   "execution_count": 4,
   "metadata": {
    "collapsed": false
   },
   "outputs": [
    {
     "name": "stdout",
     "output_type": "stream",
     "text": [
      "Parameter MIPFocus unchanged\n",
      "   Value: 2   Min: 0   Max: 3   Default: 0\n",
      "Optimize a model with 5 rows, 5 columns and 5 nonzeros\n",
      "Coefficient statistics:\n",
      "  Matrix range    [7e+01, 2e+02]\n",
      "  Objective range [2e+01, 2e+01]\n",
      "  Bounds range    [0e+00, 0e+00]\n",
      "  RHS range       [1e+01, 2e+01]\n",
      "Presolve removed 5 rows and 5 columns\n",
      "Presolve time: 0.01s\n",
      "Presolve: All rows and columns removed\n",
      "Iteration    Objective       Primal Inf.    Dual Inf.      Time\n",
      "       0    1.0189809e+01   0.000000e+00   0.000000e+00      0s\n",
      "\n",
      "Solved in 0 iterations and 0.01 seconds\n",
      "Optimal objective  1.018980898e+01\n",
      "\n",
      "*************************************************************************\n",
      "    |   Decision Variables\n",
      "    |   u1 = 0.095652173913\n",
      "    |   u2 = 0.0722222222222\n",
      "    |   u3 = 0.110294117647\n",
      "    |   u4 = 0.12676056338\n",
      "    |   u5 = 0.150684931507\n",
      "*************************************************************************\n",
      "    |   Objective Value ------------------  10.189808983\n",
      "    |   Aij Sum --------------------------  646\n",
      "    |   Cj Sum ---------------------------  68\n",
      "    |   Bi Sum ---------------------------  91\n",
      "    |   Matrix Dimensions ----------------  (5, 5)\n",
      "    |   Date/Time ------------------------  2015-08-20 15:57:37.578770\n",
      "*************************************************************************\n",
      "-- Gurobi Canonical Dual Linear Programming Problem --\n",
      "\n",
      "James Gaboardi, 2015\n"
     ]
    }
   ],
   "source": [
    "# Instantiate Model\n",
    "mDual_Canonical_GUROBI = gbp.Model(' -- Canonical Dual Linear Programming Problem -- ')\n",
    "\n",
    "# Set Focus to Optimality\n",
    "gbp.setParam('MIPFocus', 2)\n",
    "\n",
    "# Decision Variables\n",
    "desc_var = []\n",
    "for dest in cols:\n",
    "    desc_var.append([])\n",
    "    desc_var[dest].append(mDual_Canonical_GUROBI.addVar(vtype=gbp.GRB.CONTINUOUS, \n",
    "                                    name='u'+str(dest+1)))\n",
    "# Update Model\n",
    "mDual_Canonical_GUROBI.update()\n",
    "\n",
    "#Objective Function\n",
    "mDual_Canonical_GUROBI.setObjective(gbp.quicksum(Bi[orig]*desc_var[orig][0] \n",
    "                        for orig in rows), \n",
    "                        gbp.GRB.MAXIMIZE)\n",
    "# Constraints\n",
    "for dest in cols:\n",
    "    mDual_Canonical_GUROBI.addConstr(gbp.quicksum(Aij[orig][dest]*desc_var[dest][0] \n",
    "                        for orig in rows) - Cj[dest] <= 0)\n",
    "# Optimize\n",
    "mDual_Canonical_GUROBI.optimize()\n",
    "# Write LP file\n",
    "mDual_Canonical_GUROBI.write('LP.lp')\n",
    "print '\\n*************************************************************************'\n",
    "print '    |   Decision Variables'\n",
    "for v in mDual_Canonical_GUROBI.getVars():\n",
    "    print '    |  ', v.VarName, '=', v.x\n",
    "print '*************************************************************************'\n",
    "val = mDual_Canonical_GUROBI.objVal\n",
    "print '    |   Objective Value ------------------ ', val\n",
    "print '    |   Aij Sum -------------------------- ', AijSum\n",
    "print '    |   Cj Sum --------------------------- ', CjSum\n",
    "print '    |   Bi Sum --------------------------- ', BiSum\n",
    "print '    |   Matrix Dimensions ---------------- ', Aij.shape\n",
    "print '    |   Date/Time ------------------------ ', dt.datetime.now()\n",
    "print '*************************************************************************'\n",
    "print '-- Gurobi Canonical Dual Linear Programming Problem --'\n",
    "print '\\nJames Gaboardi, 2015'"
   ]
  }
 ],
 "metadata": {
  "kernelspec": {
   "display_name": "Python 2",
   "language": "python",
   "name": "python2"
  },
  "language_info": {
   "codemirror_mode": {
    "name": "ipython",
    "version": 2
   },
   "file_extension": ".py",
   "mimetype": "text/x-python",
   "name": "python",
   "nbconvert_exporter": "python",
   "pygments_lexer": "ipython2",
   "version": "2.7.9"
  }
 },
 "nbformat": 4,
 "nbformat_minor": 0
}
