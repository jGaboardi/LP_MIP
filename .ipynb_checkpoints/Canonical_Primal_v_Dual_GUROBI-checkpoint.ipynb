{
 "cells": [
  {
   "cell_type": "markdown",
   "metadata": {},
   "source": [
    "<font size='5' face='Courier New'><h1 align=\"center\"><i>The Primal & Dual Linear Programming Problems: Canonical Form</i></h1></font> "
   ]
  },
  {
   "cell_type": "markdown",
   "metadata": {},
   "source": [
    "<font face='Times New Roman' size='6'><h3 align=\"center\"><u>*James&nbsp;D.&nbsp;Gaboardi*</u></h3></font>\n",
    "\n",
    "------\n",
    "<font face='Times New Roman' size='5'><h3 align=\"center\">*Florida State University* &nbsp;&nbsp;&nbsp;&nbsp;|&nbsp;&nbsp;&nbsp;&nbsp; *Department of Geography*</h3></font>\n",
    "\n",
    "------"
   ]
  },
  {
   "cell_type": "markdown",
   "metadata": {},
   "source": [
    "------\n",
    "\n",
    "<p><font size='4' face='Times New Roman'>Adapted from:</font></p>\n",
    "<p><font size='4' face='Times New Roman'><b>Daskin, M. S.</b> 1995. <i>Network and Discrete Location: Models, Algorithms, and Applications</i>. Hoboken, NJ, USA: John Wiley & Sons, Inc.</font></p>\n",
    "\n",
    "-----------"
   ]
  },
  {
   "cell_type": "markdown",
   "metadata": {},
   "source": [
    "<font size='7' face='Times New Roman'><b>0. <u>Imports and Data Creation</u></b></font>"
   ]
  },
  {
   "cell_type": "code",
   "execution_count": 1,
   "metadata": {
    "collapsed": false
   },
   "outputs": [],
   "source": [
    "# Imports\n",
    "import numpy as np\n",
    "import gurobipy as gbp\n",
    "import datetime as dt\n",
    "\n",
    "#  Constants\n",
    "Aij = np.random.randint(5, 50, 400)\n",
    "Aij = Aij.reshape(20,20)\n",
    "AijSum = np.sum(Aij)\n",
    "Cj = np.random.randint(10, 20, 20)\n",
    "CjSum = np.sum(Cj)\n",
    "Bi = np.random.randint(10, 20, 20)\n",
    "BiSum = np.sum(Bi)\n",
    "\n",
    "# Matrix Shape\n",
    "rows = range(len(Aij))\n",
    "cols = range(len(Aij[0]))\n"
   ]
  },
  {
   "cell_type": "markdown",
   "metadata": {},
   "source": [
    "<font size='7' face='Times New Roman'><b>1. <u>Primal</u></b></font>"
   ]
  },
  {
   "cell_type": "code",
   "execution_count": 2,
   "metadata": {
    "collapsed": false
   },
   "outputs": [
    {
     "name": "stdout",
     "output_type": "stream",
     "text": [
      "Changed value of parameter MIPFocus to 2\n",
      "   Prev: 0   Min: 0   Max: 3   Default: 0\n",
      "Optimize a model with 20 rows, 20 columns and 400 nonzeros\n",
      "Coefficient statistics:\n",
      "  Matrix range    [5e+00, 5e+01]\n",
      "  Objective range [1e+01, 2e+01]\n",
      "  Bounds range    [0e+00, 0e+00]\n",
      "  RHS range       [1e+01, 2e+01]\n",
      "Presolve time: 0.00s\n",
      "Presolved: 20 rows, 20 columns, 400 nonzeros\n",
      "\n",
      "Iteration    Objective       Primal Inf.    Dual Inf.      Time\n",
      "       0    0.0000000e+00   4.687500e+00   0.000000e+00      0s\n",
      "      11    7.4815903e+00   0.000000e+00   0.000000e+00      0s\n",
      "\n",
      "Solved in 11 iterations and 0.01 seconds\n",
      "Optimal objective  7.481590294e+00\n",
      "\n",
      "*************************************************************************\n",
      "    |   Decision Variables\n",
      "    |   y1 = 0.0318421970971\n",
      "    |   y2 = 0.0\n",
      "    |   y3 = 0.0687163240813\n",
      "    |   y4 = 0.0173262243046\n",
      "    |   y5 = 0.0\n",
      "    |   y6 = 0.0\n",
      "    |   y7 = 0.00578178597961\n",
      "    |   y8 = 0.0\n",
      "    |   y9 = 0.0270323672164\n",
      "    |   y10 = 0.0\n",
      "    |   y11 = 0.0\n",
      "    |   y12 = 0.0823155371905\n",
      "    |   y13 = 0.0\n",
      "    |   y14 = 0.0\n",
      "    |   y15 = 0.0\n",
      "    |   y16 = 0.0\n",
      "    |   y17 = 0.107217852703\n",
      "    |   y18 = 0.157976724062\n",
      "    |   y19 = 0.123731798441\n",
      "    |   y20 = 0.0\n",
      "*************************************************************************\n",
      "    |   Objective Value ------------------  7.48159029398\n",
      "    |   Aij Sum --------------------------  10844\n",
      "    |   Cj Sum ---------------------------  293\n",
      "    |   Bi Sum ---------------------------  300\n",
      "    |   Matrix Dimensions ----------------  (20, 20)\n",
      "    |   Date/Time ------------------------  2015-08-31 11:12:41.820614\n",
      "*************************************************************************\n",
      "-- Gurobi Canonical Primal Linear Programming Problem --\n",
      "\n",
      "James Gaboardi, 2015\n"
     ]
    }
   ],
   "source": [
    "def GbpPrimCan():    \n",
    "    # Instantiate Model\n",
    "    mPrimal_Canonical_GUROBI = gbp.Model(' -- Canonical Primal Linear Programming Problem -- ')\n",
    "\n",
    "    # Set Focus to Optimality\n",
    "    gbp.setParam('MIPFocus', 2)\n",
    "\n",
    "    # Decision Variables\n",
    "    desc_var = []\n",
    "    for dest in cols:\n",
    "        desc_var.append([])\n",
    "        desc_var[dest].append(mPrimal_Canonical_GUROBI.addVar(vtype=gbp.GRB.CONTINUOUS, \n",
    "                                        name='y'+str(dest+1)))\n",
    "    # Update Model\n",
    "    mPrimal_Canonical_GUROBI.update()\n",
    "\n",
    "    #Objective Function\n",
    "    mPrimal_Canonical_GUROBI.setObjective(gbp.quicksum(Cj[dest]*desc_var[dest][0] \n",
    "                            for dest in cols), \n",
    "                            gbp.GRB.MINIMIZE)\n",
    "    # Constraints\n",
    "    for orig in rows:\n",
    "        mPrimal_Canonical_GUROBI.addConstr(gbp.quicksum(Aij[orig][dest]*desc_var[dest][0] \n",
    "                            for dest in cols) - Bi[orig] >= 0)\n",
    "    # Optimize\n",
    "    try:\n",
    "        mPrimal_Canonical_GUROBI.optimize()\n",
    "    except Exception as e:\n",
    "        print '   ################################################################'\n",
    "        print ' < ISSUE : ', e, ' >'\n",
    "        print '   ################################################################'\n",
    "    # Write LP file\n",
    "    mPrimal_Canonical_GUROBI.write('LP.lp')\n",
    "    print '\\n*************************************************************************'\n",
    "    print '    |   Decision Variables'\n",
    "    for v in mPrimal_Canonical_GUROBI.getVars():\n",
    "        print '    |  ', v.VarName, '=', v.x\n",
    "    print '*************************************************************************'\n",
    "    val = mPrimal_Canonical_GUROBI.objVal\n",
    "    print '    |   Objective Value ------------------ ', val\n",
    "    print '    |   Aij Sum -------------------------- ', AijSum\n",
    "    print '    |   Cj Sum --------------------------- ', CjSum\n",
    "    print '    |   Bi Sum --------------------------- ', BiSum\n",
    "    print '    |   Matrix Dimensions ---------------- ', Aij.shape\n",
    "    print '    |   Date/Time ------------------------ ', dt.datetime.now()\n",
    "    print '*************************************************************************'\n",
    "    print '-- Gurobi Canonical Primal Linear Programming Problem --'\n",
    "    \n",
    "try:\n",
    "    GbpPrimCan()\n",
    "    print '\\nJames Gaboardi, 2015'\n",
    "except Exception as e:\n",
    "    print '   ################################################################'\n",
    "    print ' < ISSUE : ', e, ' >'\n",
    "    print '   ################################################################'"
   ]
  },
  {
   "cell_type": "markdown",
   "metadata": {},
   "source": [
    "<font size='7' face='Times New Roman'><b>2. <u>Dual</u></b></font>"
   ]
  },
  {
   "cell_type": "code",
   "execution_count": 3,
   "metadata": {
    "collapsed": false
   },
   "outputs": [
    {
     "name": "stdout",
     "output_type": "stream",
     "text": [
      "Parameter MIPFocus unchanged\n",
      "   Value: 2   Min: 0   Max: 3   Default: 0\n",
      "Optimize a model with 20 rows, 20 columns and 20 nonzeros\n",
      "Coefficient statistics:\n",
      "  Matrix range    [5e+02, 6e+02]\n",
      "  Objective range [1e+01, 2e+01]\n",
      "  Bounds range    [0e+00, 0e+00]\n",
      "  RHS range       [1e+01, 2e+01]\n",
      "Presolve removed 20 rows and 20 columns\n",
      "Presolve time: 0.01s\n",
      "Presolve: All rows and columns removed\n",
      "Iteration    Objective       Primal Inf.    Dual Inf.      Time\n",
      "       0    8.2286943e+00   0.000000e+00   0.000000e+00      0s\n",
      "\n",
      "Solved in 0 iterations and 0.01 seconds\n",
      "Optimal objective  8.228694293e+00\n",
      "\n",
      "*************************************************************************\n",
      "    |   Decision Variables\n",
      "    |   u1 = 0.0357894736842\n",
      "    |   u2 = 0.0299401197605\n",
      "    |   u3 = 0.0269749518304\n",
      "    |   u4 = 0.0204460966543\n",
      "    |   u5 = 0.0308008213552\n",
      "    |   u6 = 0.0247619047619\n",
      "    |   u7 = 0.0267111853088\n",
      "    |   u8 = 0.0320284697509\n",
      "    |   u9 = 0.0290697674419\n",
      "    |   u10 = 0.0289855072464\n",
      "    |   u11 = 0.0313588850174\n",
      "    |   u12 = 0.0192307692308\n",
      "    |   u13 = 0.0349344978166\n",
      "    |   u14 = 0.0385395537525\n",
      "    |   u15 = 0.0271739130435\n",
      "    |   u16 = 0.0240963855422\n",
      "    |   u17 = 0.018115942029\n",
      "    |   u18 = 0.0181818181818\n",
      "    |   u19 = 0.0215384615385\n",
      "    |   u20 = 0.0265780730897\n",
      "*************************************************************************\n",
      "    |   Objective Value ------------------  8.22869429269\n",
      "    |   Aij Sum --------------------------  10844\n",
      "    |   Cj Sum ---------------------------  293\n",
      "    |   Bi Sum ---------------------------  300\n",
      "    |   Matrix Dimensions ----------------  (20, 20)\n",
      "    |   Date/Time ------------------------  2015-08-31 11:14:56.112995\n",
      "*************************************************************************\n",
      "-- Gurobi Canonical Dual Linear Programming Problem --\n",
      "\n",
      "James Gaboardi, 2015\n"
     ]
    }
   ],
   "source": [
    "def GbpDualCan():    \n",
    "    # Instantiate Model\n",
    "    mDual_Canonical_GUROBI = gbp.Model(' -- Canonical Dual Linear Programming Problem -- ')\n",
    "\n",
    "    # Set Focus to Optimality\n",
    "    gbp.setParam('MIPFocus', 2)\n",
    "\n",
    "    # Decision Variables\n",
    "    desc_var = []\n",
    "    for dest in cols:\n",
    "        desc_var.append([])\n",
    "        desc_var[dest].append(mDual_Canonical_GUROBI.addVar(vtype=gbp.GRB.CONTINUOUS, \n",
    "                                        name='u'+str(dest+1)))\n",
    "    # Update Model\n",
    "    mDual_Canonical_GUROBI.update()\n",
    "\n",
    "    #Objective Function\n",
    "    mDual_Canonical_GUROBI.setObjective(gbp.quicksum(Bi[orig]*desc_var[orig][0] \n",
    "                            for orig in rows), \n",
    "                            gbp.GRB.MAXIMIZE)\n",
    "    # Constraints\n",
    "    for dest in cols:\n",
    "        mDual_Canonical_GUROBI.addConstr(gbp.quicksum(Aij[orig][dest]*desc_var[dest][0] \n",
    "                            for orig in rows) - Cj[dest] <= 0)\n",
    "    # Optimize\n",
    "    try:\n",
    "        mDual_Canonical_GUROBI.optimize()\n",
    "    except Exception as e:\n",
    "        print '   ################################################################'\n",
    "        print ' < ISSUE : ', e, ' >'\n",
    "        print '   ################################################################'\n",
    "    # Write LP file\n",
    "    mDual_Canonical_GUROBI.write('LP.lp')\n",
    "    print '\\n*************************************************************************'\n",
    "    print '    |   Decision Variables'\n",
    "    for v in mDual_Canonical_GUROBI.getVars():\n",
    "        print '    |  ', v.VarName, '=', v.x\n",
    "    print '*************************************************************************'\n",
    "    val = mDual_Canonical_GUROBI.objVal\n",
    "    print '    |   Objective Value ------------------ ', val\n",
    "    print '    |   Aij Sum -------------------------- ', AijSum\n",
    "    print '    |   Cj Sum --------------------------- ', CjSum\n",
    "    print '    |   Bi Sum --------------------------- ', BiSum\n",
    "    print '    |   Matrix Dimensions ---------------- ', Aij.shape\n",
    "    print '    |   Date/Time ------------------------ ', dt.datetime.now()\n",
    "    print '*************************************************************************'\n",
    "    print '-- Gurobi Canonical Dual Linear Programming Problem --'\n",
    "    \n",
    "try:\n",
    "    GbpDualCan()\n",
    "    print '\\nJames Gaboardi, 2015'\n",
    "except Exception as e:\n",
    "    print '   ################################################################'\n",
    "    print ' < ISSUE : ', e, ' >'\n",
    "    print '   ################################################################'"
   ]
  },
  {
   "cell_type": "markdown",
   "metadata": {},
   "source": [
    "----------------"
   ]
  }
 ],
 "metadata": {
  "kernelspec": {
   "display_name": "Python 2",
   "language": "python",
   "name": "python2"
  },
  "language_info": {
   "codemirror_mode": {
    "name": "ipython",
    "version": 2
   },
   "file_extension": ".py",
   "mimetype": "text/x-python",
   "name": "python",
   "nbconvert_exporter": "python",
   "pygments_lexer": "ipython2",
   "version": "2.7.9"
  }
 },
 "nbformat": 4,
 "nbformat_minor": 0
}
