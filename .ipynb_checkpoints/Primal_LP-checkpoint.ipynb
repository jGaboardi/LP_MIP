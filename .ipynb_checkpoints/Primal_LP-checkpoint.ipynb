{
 "cells": [
  {
   "cell_type": "markdown",
   "metadata": {},
   "source": [
    "<font size='4' face='Courier New'><h1 align=\"center\"><i>The Primal Linear Programming Problem</i></h1></font> \n",
    "\n"
   ]
  },
  {
   "cell_type": "markdown",
   "metadata": {},
   "source": [
    "<font face='Times New Roman' size='6'><h3 align=\"center\"><u>*James&nbsp;D.&nbsp;Gaboardi*</u></h3></font>\n",
    "\n",
    "------\n",
    "<font face='Times New Roman' size='5'><h3 align=\"center\">*Florida State University* &nbsp;&nbsp;&nbsp;&nbsp;|&nbsp;&nbsp;&nbsp;&nbsp; *Department of Geography*</h3></font>\n",
    "\n",
    "------"
   ]
  },
  {
   "cell_type": "markdown",
   "metadata": {},
   "source": [
    "<font size='3' face='Times New Roman'><p><b>GNU LESSER GENERAL PUBLIC LICENSE</b></p>\n",
    "<p><i>Version 3, 29 June 2007</i></p>\n",
    "<p> Copyright (C) 2007 Free Software Foundation, Inc. <http://fsf.org/></p>\n",
    "<p> Everyone is permitted to copy and distribute verbatim copies\n",
    " of this license document, but changing it is not allowed.</p></font>\n",
    " \n",
    " ----"
   ]
  },
  {
   "cell_type": "markdown",
   "metadata": {},
   "source": [
    "------\n",
    "\n",
    "<p><font size='4' face='Times New Roman'>Adapted from:</font></p>\n",
    "<p><font size='4' face='Times New Roman'><b>Daskin, M. S.</b> 1995. <i>Network and Discrete Location: Models, Algorithms, and Applications</i>. Hoboken, NJ, USA: John Wiley & Sons, Inc.</font></p>\n",
    "\n",
    "-----------"
   ]
  },
  {
   "cell_type": "markdown",
   "metadata": {},
   "source": [
    "<font size='7' face='Times New Roman'><b>1. <u>Canonical Form</u></b></font>"
   ]
  },
  {
   "cell_type": "markdown",
   "metadata": {},
   "source": [
    "<p><font size='5' face='Courier New'><u>Minimize</u></font></p>\n",
    "\n",
    "<p><font size='6' face='Times New Roman'>&nbsp;&nbsp;&nbsp;&nbsp;&nbsp;&nbsp;&nbsp;&nbsp;$\\sum_{j}$<i>&thinsp; c<sub>j</sub>Y<sub>j</sub></i></font></p>\n",
    "\n",
    "<p><font size='5' face='Courier New'><u>Subject to</u></font></p>\n",
    "\n",
    "<p><font size='6' face='Times New Roman'>&nbsp;&nbsp;&nbsp;&nbsp;&nbsp;&nbsp;&nbsp;&nbsp;$∑_{j}$&thinsp;<i>a<sub>ij</sub>Y<sub>j</sub></i> ≥ <i>b<sub>i</sub></i>&nbsp;&nbsp;&nbsp;&nbsp;&nbsp;&nbsp;&nbsp; ∀<i> i</i></font></p>\n",
    "\n",
    "<p><font size='6' face='Times New Roman'>&nbsp;&nbsp;&nbsp;&nbsp;&nbsp;&nbsp;&nbsp;&nbsp;<i>Y<sub>j</sub></i> ≥ 0 &nbsp;&nbsp;&nbsp;&nbsp;&nbsp;&nbsp;&nbsp;&nbsp;&nbsp;&nbsp;&nbsp;&nbsp;&nbsp;&nbsp;&nbsp;&nbsp; ∀<i> j</i></font></p>\n",
    "\n",
    "<p><font size='5' face='Courier New'><u>where</u></font></p>\n",
    "<p><font size='5' face='Times New Roman'>&nbsp;&nbsp;&nbsp;&nbsp;&nbsp;&nbsp;&nbsp;&nbsp;&nbsp;−\t<i> i</i> = a specific origin in a matrix</font></p>\n",
    "<p><font size='5' face='Times New Roman'>&nbsp;&nbsp;&nbsp;&nbsp;&nbsp;&nbsp;&nbsp;&nbsp;&nbsp;−\t<i> j</i> = a specific destination in a matrix</font></p>\n",
    "<p><font size='5' face='Times New Roman'>&nbsp;&nbsp;&nbsp;&nbsp;&nbsp;&nbsp;&nbsp;&nbsp;&nbsp;−\t<i> c<sub>j</sub></i> = user-defined constants</font></p>\n",
    "<p><font size='5' face='Times New Roman'>&nbsp;&nbsp;&nbsp;&nbsp;&nbsp;&nbsp;&nbsp;&nbsp;&nbsp;−\t<i> b<sub>i</sub></i> = user-defined constants</font></p>\n",
    "<p><font size='5' face='Times New Roman'>&nbsp;&nbsp;&nbsp;&nbsp;&nbsp;&nbsp;&nbsp;&nbsp;&nbsp;−\t<i> a<sub>ij</sub></i> = user-defined constants</font></p>\n",
    "<p><font size='5' face='Times New Roman'>&nbsp;&nbsp;&nbsp;&nbsp;&nbsp;&nbsp;&nbsp;&nbsp;&nbsp;−\t<i> Y<sub>j</sub></i> = primal decision variables</font></p>\n",
    "\n",
    "--------------"
   ]
  },
  {
   "cell_type": "markdown",
   "metadata": {},
   "source": [
    "<font size='7' face='Times New Roman'><b>2. <u>Standard Form</u></b></font>"
   ]
  },
  {
   "cell_type": "markdown",
   "metadata": {},
   "source": [
    "<p><font size='5' face='Courier New'><u>Minimize</u></font></p>\n",
    "\n",
    "<p><font size='6' face='Times New Roman'>&nbsp;&nbsp;&nbsp;&nbsp;&nbsp;&nbsp;&nbsp;&nbsp;$\\sum_{j}$<i>&thinsp; c<sub>j</sub>Y<sub>j</sub></i></font></p>\n",
    "\n",
    "<p><font size='5' face='Courier New'><u>Subject to</u></font></p>\n",
    "\n",
    "<p><font size='6' face='Times New Roman'>&nbsp;&nbsp;&nbsp;&nbsp;&nbsp;&nbsp;&nbsp;&nbsp;$∑_{j}$&thinsp;<i>a<sub>ij</sub>Y<sub>j</sub> - S</i><sub>i</sub> ≥ <i>b<sub>i</sub></i>&nbsp;&nbsp;&nbsp;&nbsp;&nbsp;&nbsp;&nbsp; ∀<i> i</i></font></p>\n",
    "\n",
    "<p><font size='6' face='Times New Roman'>&nbsp;&nbsp;&nbsp;&nbsp;&nbsp;&nbsp;&nbsp;&nbsp;<i>Y<sub>j</sub></i> ≥ 0 &nbsp;&nbsp;&nbsp;&nbsp;&nbsp;&nbsp;&nbsp;&nbsp;&nbsp;&nbsp;&nbsp;&nbsp;&nbsp;&nbsp;&nbsp;&nbsp; ∀<i> j</i></font></p>\n",
    "<p><font size='6' face='Times New Roman'>&nbsp;&nbsp;&nbsp;&nbsp;&nbsp;&nbsp;&nbsp;&nbsp;<i>S<sub>i</sub></i> ≥ 0 &nbsp;&nbsp;&nbsp;&nbsp;&nbsp;&nbsp;&nbsp;&nbsp;&nbsp;&nbsp;&nbsp;&nbsp;&nbsp;&nbsp;&nbsp;&nbsp; ∀<i> i</i></font></p>\n",
    "\n",
    "<p><font size='5' face='Courier New'><u>where</u></font></p>\n",
    "<p><font size='5' face='Times New Roman'>&nbsp;&nbsp;&nbsp;&nbsp;&nbsp;&nbsp;&nbsp;&nbsp;&nbsp;−\t<i> i</i> = a specific origin in a matrix</font></p>\n",
    "<p><font size='5' face='Times New Roman'>&nbsp;&nbsp;&nbsp;&nbsp;&nbsp;&nbsp;&nbsp;&nbsp;&nbsp;−\t<i> j</i> = a specific destination in a matrix</font></p>\n",
    "<p><font size='5' face='Times New Roman'>&nbsp;&nbsp;&nbsp;&nbsp;&nbsp;&nbsp;&nbsp;&nbsp;&nbsp;−\t<i> c<sub>j</sub></i> = user-defined constants</font></p>\n",
    "<p><font size='5' face='Times New Roman'>&nbsp;&nbsp;&nbsp;&nbsp;&nbsp;&nbsp;&nbsp;&nbsp;&nbsp;−\t<i> b<sub>i</sub></i> = user-defined constants</font></p>\n",
    "<p><font size='5' face='Times New Roman'>&nbsp;&nbsp;&nbsp;&nbsp;&nbsp;&nbsp;&nbsp;&nbsp;&nbsp;−\t<i> a<sub>ij</sub></i> = user-defined constants</font></p>\n",
    "<p><font size='5' face='Times New Roman'>&nbsp;&nbsp;&nbsp;&nbsp;&nbsp;&nbsp;&nbsp;&nbsp;&nbsp;−\t<i> Y<sub>j</sub></i> = primal decision variables</font></p>\n",
    "<p><font size='5' face='Times New Roman'>&nbsp;&nbsp;&nbsp;&nbsp;&nbsp;&nbsp;&nbsp;&nbsp;&nbsp;−\t<i> S<sub>i</sub></i> = surplus variables</font></p>\n",
    "\n",
    "--------------"
   ]
  }
 ],
 "metadata": {
  "kernelspec": {
   "display_name": "Python 2",
   "language": "python",
   "name": "python2"
  },
  "language_info": {
   "codemirror_mode": {
    "name": "ipython",
    "version": 2
   },
   "file_extension": ".py",
   "mimetype": "text/x-python",
   "name": "python",
   "nbconvert_exporter": "python",
   "pygments_lexer": "ipython2",
   "version": "2.7.9"
  }
 },
 "nbformat": 4,
 "nbformat_minor": 0
}
